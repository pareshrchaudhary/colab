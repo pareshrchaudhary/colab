{
  "nbformat": 4,
  "nbformat_minor": 0,
  "metadata": {
    "colab": {
      "provenance": [],
      "include_colab_link": true
    },
    "kernelspec": {
      "name": "python3",
      "display_name": "Python 3"
    },
    "language_info": {
      "name": "python"
    }
  },
  "cells": [
    {
      "cell_type": "markdown",
      "metadata": {
        "id": "view-in-github",
        "colab_type": "text"
      },
      "source": [
        "<a href=\"https://colab.research.google.com/github/pareshrchaudhary/colab/blob/main/homework/hw_03.ipynb\" target=\"_parent\"><img src=\"https://colab.research.google.com/assets/colab-badge.svg\" alt=\"Open In Colab\"/></a>"
      ]
    },
    {
      "cell_type": "markdown",
      "source": [
        "# AA/EE/ME 548: Homework 03\n",
        "\n",
        "## Name: Paresh Chaudhary \n",
        "\n",
        "### Export page instructions:\n",
        "Export the PDF as though you were going to print the page in your browser (Ctrl+P) rather than through Colab's print functionality, otherwise some of the text will be cut off.\n",
        "\n",
        "### Homework feedback:\n",
        "\n",
        "**What was the coolest thing(s) you learned from lectures/homework that you didn't know previously?**\n",
        "\n",
        "\n",
        "\n",
        "**Which problem did you find the most challenging and why?**\n",
        "\n",
        "\n",
        "\n",
        "**Approximate how long did you spend on this homework?**\n",
        "\n",
        "\n",
        "**Feedback on this homework (can improve for future hw and years)**\n",
        "\n",
        "\n",
        "## Submission details\n",
        "To submit your homework, please save a PDF copy of your notebook (make sure all the cells are run correctly, and the correct outputs are displayed), and submit via Canvas."
      ],
      "metadata": {
        "id": "ZlHPHXM-BjsW"
      }
    },
    {
      "cell_type": "code",
      "source": [
        "import jax\n",
        "import jax.numpy as jnp\n",
        "from jax import jit, jacrev, jacfwd, lax\n",
        "import numpy as np\n",
        "from jax.typing import ArrayLike\n",
        "import matplotlib.pyplot as plt"
      ],
      "metadata": {
        "id": "HiXNkf-3BnGj"
      },
      "execution_count": 21,
      "outputs": []
    },
    {
      "cell_type": "markdown",
      "source": [
        "## Problem 1"
      ],
      "metadata": {
        "id": "zucTOJz_BwEZ"
      }
    },
    {
      "cell_type": "markdown",
      "source": [
        "### (a)\n",
        "\n",
        "If we add a cross term $S_k = 2x_k^TS_ku_k$ to the cost-to-go such that $S_k \\in \\mathbb{R}^{n \\times m}$ and $\\begin{bmatrix} Q_k & S_k \\\\ S_k^T & R_k \\end{bmatrix} \\geq 0$ for $K = 0, \\dots, N-1$, the update equation for $P_k$ and the gain $K_k$ with the cross term present would be as follows:\n",
        "\\\n",
        "The value function satisfies the following Bellman equation:\n",
        "\\\n",
        "\\\n",
        "$$V_N(x) = x^T Q_N x$$\n",
        "\\\n",
        "\\\n",
        "$$V_{N-1}(x) = \\min_{u} \\left\\{ x^T Q x + u^T R u + 2x^TSu + V_{N}(x) \\right\\}$$\n",
        "\\\n",
        "\\\n",
        "To solve for the optimal control sequence, we can work backwards from time $N$ to time $0$. At time $N$, we have:\n",
        "\\\n",
        "\\\n",
        "$$V_N(x) = x^T Q_N x$$\n",
        "\n",
        "At time $N-1$, we have:\n",
        "\n",
        "$$V_{N-1}(x) = \\min_{u} \\left\\{ x^T Q x + u^T R u + 2x^TSu + V_{N}(Ax + Bu) \\right\\}$$\n",
        "\\\n",
        "\\\n",
        "$$= \\min_{u} \\left\\{ x^T Q x + u^T R u + 2x^TSu + (Ax + Bu)^T Q_N (Ax + Bu) \\right\\}$$\n",
        "\\\n",
        "\\\n",
        "$$= \\min_{u} \\left\\{ x^T Q x + u^T R u + 2x^TSu  + x^T A^T Q_N Ax + x^T A^T Q_N Bu + u^T B^T Q_N Ax + u^T B^T Q_N Bu \\right\\}$$\n",
        "\\\n",
        "\\\n",
        "$$= \\min_{u} \\left\\{ x^T Q x + x^T A^T Q_N Ax  + u^T R u + 2x^TSu + x^T A^T Q_N Bu + u^T B^T Q_N Ax + u^T B^T Q_N Bu \\right\\}$$\n",
        "\\\n",
        "\\\n",
        "$$= x^T Q x + x^T A^T Q_N Ax + \\min_{u} \\left\\{ (u^T R u + u^T B^T Q_N Bu + 2x^TSu + x^T A^T Q_N Bu + u^T B^T Q_N Ax )\\right\\}$$\n",
        "\\\n",
        "\\\n",
        "The optimal control input at time $N-1$ is given by:\n",
        "\\\n",
        "\\\n",
        "$$2Ru + 2B^T Q_N Bu + 2x^TS + 2A^T Q_N Bx = 0$$\n",
        "\\\n",
        "$$u_{N-1} = -(R + B^TQB)^{-1}(B^TQ_NA + S)x$$\n",
        "\\\n",
        "where $P_N = Q_N$. This process can be repeated for all previous time steps until we reach time $0$. The resulting optimal control sequence is given by:\n",
        "\\begin{equation}\n",
        "\\boxed{\\boxed{u_k = - (R+B^TP_{k+1}B)^{-1}(B^TP_{k+1}A+S)x}}\n",
        "\\end{equation}\n",
        "$$u_k = - (K_k)x.$$\n",
        "\\\n",
        "We can further simplify this expression by defining the feedback gain matrix $K_k$ as:\n",
        "\\\n",
        "\\\n",
        "\\begin{equation}\n",
        "\\boxed{\\boxed{K_k = -(R+B^TP_{k+1}B)^{-1}(B^TP_{k+1}A+S)}}\n",
        "\\end{equation}\n",
        "\\\n",
        "\\\n",
        "Substituting this back into the expression for $V_{K-1}(x)$, we get:\n",
        "\\\n",
        "\\\n",
        "$$V_{N-1}(x) = \\min_{u} \\left\\{ x^T Q x + [-K_kx]^T R [-K_kx] + 2x^TS[-K_kx] + (Ax + B[-K_kx])^T Q_N (Ax + B[-K_kx]) \\right\\}$$\n",
        "\\\n",
        "$$V_{N-1}(x) = \\min_{u} \\left\\{ x^T Q x + -x^T K^T R K x + -2x^TSK_kx + x^T(A^TQ_NA - A^TQ_NBK - K^TB^TQ_NA + K^TB^TQ_NBK)x \\right\\}$$\n",
        "\\\n",
        "$$V_{N-1}(x) = \\min_{u} \\left\\{ x^T(Q - K^TRK - 2SK + A^TQ_NA - A^TQ_NBK - K^TB^TQ_NA + K^TB^TQ_NBK)x \\right\\}$$\n",
        "\\\n",
        "The value function is simplified by defining the matrix $P_k$ recursively as:\n",
        "\\\n",
        "\\\n",
        "\\begin{equation}\n",
        "\\boxed{\\boxed{P_k = (Q - K^TRK - 2SK + A^TQ_NA - A^TQ_NBK - K^TB^TQ_NA + K^TB^TQ_NBK)}}\n",
        "\\end{equation}"
      ],
      "metadata": {
        "id": "P4TIj1LXB1xR"
      }
    },
    {
      "cell_type": "markdown",
      "source": [
        "# Problem 2\n",
        "\n",
        "See separate notebook"
      ],
      "metadata": {
        "id": "4NJEunDzHJEY"
      }
    },
    {
      "cell_type": "markdown",
      "source": [
        "# Problem 3"
      ],
      "metadata": {
        "id": "Z5ZkpYkeHMoy"
      }
    },
    {
      "cell_type": "code",
      "source": [
        "!pip install --upgrade hj-reachability"
      ],
      "metadata": {
        "id": "mS6iHUpcHOA8",
        "colab": {
          "base_uri": "https://localhost:8080/"
        },
        "outputId": "7c6731b6-e815-4b26-d60e-63a6bb1d29d2"
      },
      "execution_count": 22,
      "outputs": [
        {
          "output_type": "stream",
          "name": "stdout",
          "text": [
            "Looking in indexes: https://pypi.org/simple, https://us-python.pkg.dev/colab-wheels/public/simple/\n",
            "Requirement already satisfied: hj-reachability in /usr/local/lib/python3.10/dist-packages (0.5.0)\n",
            "Requirement already satisfied: flax>=0.3.5 in /usr/local/lib/python3.10/dist-packages (from hj-reachability) (0.6.9)\n",
            "Requirement already satisfied: jax>=0.3.16 in /usr/local/lib/python3.10/dist-packages (from hj-reachability) (0.4.8)\n",
            "Requirement already satisfied: numpy>=1.18.0 in /usr/local/lib/python3.10/dist-packages (from hj-reachability) (1.22.4)\n",
            "Requirement already satisfied: msgpack in /usr/local/lib/python3.10/dist-packages (from flax>=0.3.5->hj-reachability) (1.0.5)\n",
            "Requirement already satisfied: optax in /usr/local/lib/python3.10/dist-packages (from flax>=0.3.5->hj-reachability) (0.1.5)\n",
            "Requirement already satisfied: orbax-checkpoint in /usr/local/lib/python3.10/dist-packages (from flax>=0.3.5->hj-reachability) (0.2.1)\n",
            "Requirement already satisfied: tensorstore in /usr/local/lib/python3.10/dist-packages (from flax>=0.3.5->hj-reachability) (0.1.36)\n",
            "Requirement already satisfied: rich>=11.1 in /usr/local/lib/python3.10/dist-packages (from flax>=0.3.5->hj-reachability) (13.3.4)\n",
            "Requirement already satisfied: typing-extensions>=4.1.1 in /usr/local/lib/python3.10/dist-packages (from flax>=0.3.5->hj-reachability) (4.5.0)\n",
            "Requirement already satisfied: PyYAML>=5.4.1 in /usr/local/lib/python3.10/dist-packages (from flax>=0.3.5->hj-reachability) (6.0)\n",
            "Requirement already satisfied: ml-dtypes>=0.0.3 in /usr/local/lib/python3.10/dist-packages (from jax>=0.3.16->hj-reachability) (0.1.0)\n",
            "Requirement already satisfied: opt-einsum in /usr/local/lib/python3.10/dist-packages (from jax>=0.3.16->hj-reachability) (3.3.0)\n",
            "Requirement already satisfied: scipy>=1.7 in /usr/local/lib/python3.10/dist-packages (from jax>=0.3.16->hj-reachability) (1.10.1)\n",
            "Requirement already satisfied: markdown-it-py<3.0.0,>=2.2.0 in /usr/local/lib/python3.10/dist-packages (from rich>=11.1->flax>=0.3.5->hj-reachability) (2.2.0)\n",
            "Requirement already satisfied: pygments<3.0.0,>=2.13.0 in /usr/local/lib/python3.10/dist-packages (from rich>=11.1->flax>=0.3.5->hj-reachability) (2.14.0)\n",
            "Requirement already satisfied: absl-py>=0.7.1 in /usr/local/lib/python3.10/dist-packages (from optax->flax>=0.3.5->hj-reachability) (1.4.0)\n",
            "Requirement already satisfied: chex>=0.1.5 in /usr/local/lib/python3.10/dist-packages (from optax->flax>=0.3.5->hj-reachability) (0.1.7)\n",
            "Requirement already satisfied: jaxlib>=0.1.37 in /usr/local/lib/python3.10/dist-packages (from optax->flax>=0.3.5->hj-reachability) (0.4.7+cuda11.cudnn86)\n",
            "Requirement already satisfied: cached_property in /usr/local/lib/python3.10/dist-packages (from orbax-checkpoint->flax>=0.3.5->hj-reachability) (1.5.2)\n",
            "Requirement already satisfied: importlib_resources in /usr/local/lib/python3.10/dist-packages (from orbax-checkpoint->flax>=0.3.5->hj-reachability) (5.12.0)\n",
            "Requirement already satisfied: etils in /usr/local/lib/python3.10/dist-packages (from orbax-checkpoint->flax>=0.3.5->hj-reachability) (1.2.0)\n",
            "Requirement already satisfied: nest_asyncio in /usr/local/lib/python3.10/dist-packages (from orbax-checkpoint->flax>=0.3.5->hj-reachability) (1.5.6)\n",
            "Requirement already satisfied: dm-tree>=0.1.5 in /usr/local/lib/python3.10/dist-packages (from chex>=0.1.5->optax->flax>=0.3.5->hj-reachability) (0.1.8)\n",
            "Requirement already satisfied: toolz>=0.9.0 in /usr/local/lib/python3.10/dist-packages (from chex>=0.1.5->optax->flax>=0.3.5->hj-reachability) (0.12.0)\n",
            "Requirement already satisfied: mdurl~=0.1 in /usr/local/lib/python3.10/dist-packages (from markdown-it-py<3.0.0,>=2.2.0->rich>=11.1->flax>=0.3.5->hj-reachability) (0.1.2)\n"
          ]
        }
      ]
    },
    {
      "cell_type": "code",
      "source": [
        "from IPython.display import HTML\n",
        "import matplotlib.animation as anim\n",
        "import plotly.graph_objects as go\n",
        "\n",
        "import hj_reachability as hj\n",
        "from hj_reachability import dynamics\n",
        "from hj_reachability import sets"
      ],
      "metadata": {
        "id": "t13S9UgAH0J7"
      },
      "execution_count": 29,
      "outputs": []
    },
    {
      "cell_type": "code",
      "source": [
        "class DynUnicycle(dynamics.ControlAndDisturbanceAffineDynamics):\n",
        "\n",
        "    def __init__(self,\n",
        "                 max_turn_rate=1.,\n",
        "                 max_accel=2.,\n",
        "                 control_mode=\"max\",\n",
        "                 disturbance_mode=\"min\",\n",
        "                 control_space=None,\n",
        "                 disturbance_space=None,\n",
        "                 alpha=0.):\n",
        "        # control and disturbance bounds\n",
        "        # in this set up, the disturbance bounds are proportional to the control\n",
        "        # bounds by a factor of alpha\n",
        "        if control_space is None:\n",
        "            control_space = sets.Box(lo=jnp.array([-max_turn_rate, -max_accel]), hi=jnp.array([max_turn_rate, max_accel]))\n",
        "        if disturbance_space is None:\n",
        "            disturbance_space = sets.Box(lo=jnp.array([-max_turn_rate * alpha, -max_accel * alpha]), hi=jnp.array([max_turn_rate * alpha, max_accel * alpha]))\n",
        "        super().__init__(control_mode, disturbance_mode, control_space, disturbance_space)\n",
        "\n",
        "    def open_loop_dynamics(self, state, time):\n",
        "        _, _, theta, v_a  = state\n",
        "        return jnp.array([v_a * jnp.cos(theta), v_a * jnp.sin(theta), 0, 0])\n",
        "\n",
        "    def control_jacobian(self, state, time):\n",
        "        x, y, _, _= state\n",
        "        return jnp.array([\n",
        "            [0., 0.],\n",
        "            [0., 0.],\n",
        "            [1., 0.],\n",
        "            [0., 1.],\n",
        "        ])\n",
        "\n",
        "    def disturbance_jacobian(self, state, time):\n",
        "        return jnp.array([\n",
        "            [0., 0.],\n",
        "            [0., 0.],\n",
        "            [1., 0.],\n",
        "            [0., 1.],\n",
        "        ])\n"
      ],
      "metadata": {
        "id": "9O94_w31H0AP"
      },
      "execution_count": 30,
      "outputs": []
    },
    {
      "cell_type": "code",
      "source": [
        "### REACH ###\n",
        "# control_mode = \"min\"\n",
        "# disturbance_mode = \"max\"\n",
        "####################################\n",
        "\n",
        "### AVOID or when computing FRS ###\n",
        "control_mode = \"max\"\n",
        "disturbance_mode = \"min\"\n",
        "####################################\n",
        "\n",
        "# model with noise/disturbance bounds proportional to the control limits\n",
        "dynamics_noisy = DynUnicycle(alpha=0.6, control_mode=control_mode, disturbance_mode=disturbance_mode)\n",
        "\n",
        "# no noise on the model\n",
        "dynamics = DynUnicycle(control_mode=control_mode, disturbance_mode=disturbance_mode)\n",
        "\n",
        "grid = hj.Grid.from_lattice_parameters_and_boundary_conditions(hj.sets.Box(lo=np.array([-10., -10., 0., -4.]),\n",
        "                                                                   hi=np.array([10., 10., 2 * np.pi, 4.])), (21, 21, 30, 31),\n",
        "                                                       periodic_dims=2)\n",
        "# terminal values. circle in position space centered at origin and with radius 3\n",
        "values = jnp.linalg.norm(grid.states[..., :2], axis=-1) - 3\n",
        "solver_settings = hj.SolverSettings.with_accuracy(\"very_high\",\n",
        "                                                  hamiltonian_postprocessor=hj.solver.backwards_reachable_tube)"
      ],
      "metadata": {
        "id": "_BdHi7O0Hz85"
      },
      "execution_count": 31,
      "outputs": []
    },
    {
      "cell_type": "code",
      "source": [
        "# solve the HJI equation\n",
        "time = 0.\n",
        "target_time = -2  \n",
        "target_values = hj.step(solver_settings, dynamics, grid, time, values, target_time).block_until_ready()\n",
        "target_values_noisy = hj.step(solver_settings, dynamics_noisy, grid, time, values, target_time).block_until_ready()\n"
      ],
      "metadata": {
        "id": "_xnn7ax4Hz4q",
        "colab": {
          "base_uri": "https://localhost:8080/"
        },
        "outputId": "dc77d043-33b7-4ed3-c808-efadba0a7fa5"
      },
      "execution_count": 32,
      "outputs": [
        {
          "output_type": "stream",
          "name": "stderr",
          "text": [
            "100%|##########|  2.0000/2.0 [00:26<00:00, 13.48s/sim_s]\n",
            "100%|##########|  2.0000/2.0 [00:36<00:00, 18.32s/sim_s]\n"
          ]
        }
      ]
    },
    {
      "cell_type": "code",
      "source": [
        "## plotting\n",
        "fontsize = 16\n",
        "## When plotting, use the following indices for theta and v when \n",
        "## slicing the value function across the x and y dimensions.\n",
        "theta_i = 0\n",
        "v_i = 25\n",
        "\n",
        "plt.jet()\n",
        "plt.figure(figsize=(8, 6))\n",
        "plt.contourf(grid.coordinate_vectors[0], grid.coordinate_vectors[1], target_values[:, :, theta_i, v_i].T)\n",
        "cbar = plt.colorbar()\n",
        "plt.contour(grid.coordinate_vectors[0],\n",
        "            grid.coordinate_vectors[1],\n",
        "            values[:, :, theta_i, v_i].T,\n",
        "            levels=0,\n",
        "            colors=\"black\",\n",
        "            linewidths=3)\n",
        "plt.contour(grid.coordinate_vectors[0],\n",
        "            grid.coordinate_vectors[1],\n",
        "            target_values[:, :, theta_i, v_i].T,\n",
        "            levels=0,\n",
        "            colors=\"red\",\n",
        "            linewidths=3)\n",
        "plt.contour(grid.coordinate_vectors[0],\n",
        "            grid.coordinate_vectors[1],\n",
        "            target_values_noisy[:, :, theta_i, v_i].T,\n",
        "            levels=0,\n",
        "            colors=\"yellow\",\n",
        "            linewidths=3)\n",
        "\n",
        "\n",
        "\n",
        "plt.xticks(fontsize=fontsize)\n",
        "plt.yticks(fontsize=fontsize)\n",
        "ticklabs = cbar.ax.get_yticklabels()\n",
        "cbar.ax.set_yticklabels(ticklabs, fontsize=fontsize)\n",
        "plt.axis(\"equal\")\n",
        "plt.tight_layout() "
      ],
      "metadata": {
        "id": "_qhU3604ZCpv",
        "colab": {
          "base_uri": "https://localhost:8080/",
          "height": 623
        },
        "outputId": "30f2a86d-6660-46ba-b41f-cdd3f9359a91"
      },
      "execution_count": 27,
      "outputs": [
        {
          "output_type": "display_data",
          "data": {
            "text/plain": [
              "<Figure size 640x480 with 0 Axes>"
            ]
          },
          "metadata": {}
        },
        {
          "output_type": "display_data",
          "data": {
            "text/plain": [
              "<Figure size 800x600 with 2 Axes>"
            ],
            "image/png": "[encoded data removed]"
          },
          "metadata": {}
        }
      ]
    },
    {
      "cell_type": "markdown",
      "source": [
        "# Problem 4"
      ],
      "metadata": {
        "id": "lRZs54Nzbf_i"
      }
    },
    {
      "cell_type": "markdown",
      "source": [
        "## 4(a) \n",
        "\n",
        "We have -\n",
        "$$\n",
        "\\underset{\\substack{\\text{$\\dot{z}$}}}{\\underbrace{\\begin{bmatrix} \\dot{p_x}\\\\\\dot{p_y} \\\\\\dot{v_x} \\\\\\dot{v_y} \\end{bmatrix} }}\n",
        " = \\underset{\\substack{\\text{A}}}{\\underbrace{\\begin{bmatrix} 0&0&1&0 \\\\ 0&0&0&1 \\\\ 0&0&0&0 \\\\ 0&0&0&0 \\end{bmatrix}}}\n",
        "\\underset{\\substack{\\text{$z$}}}{\\underbrace{\\begin{bmatrix} p_x\\\\p_y \\\\v_x\\\\v_y \\end{bmatrix}}}\n",
        " + \\underset{\\substack{\\text{B}}}{\\underbrace{\\begin{bmatrix} 0&0 \\\\ 0&0 \\\\ 1&0 \\\\ 0&1 \\end{bmatrix}}}\n",
        " \\underset{\\substack{\\text{$u$}}}{\\underbrace{\\begin{bmatrix} a_x \\\\ a_y  \\end{bmatrix}}} =\n",
        " \\underset{\\substack{\\text{$Az+Bu$}}}{\\underbrace{\\begin{bmatrix} v_x \\\\ v_y \\\\ a_x \\\\ a_y \\end{bmatrix}}}$$\n",
        "\n",
        "\\\n",
        "\n",
        "Using ZOH method to discretize the model we can formulate-\n",
        "\n",
        "$$z_{k+1} = e^{AΔt}z_k + \\int_{0}^{\\Delta t} e^{A(\\Delta t - τ)}Bu(τ)dτ$$\n",
        "\n",
        "\\\n",
        "\n",
        "$$z_{k+1} = e^{AΔt}(z_k + \\int_{0}^{\\Delta t} e^{-Aτ}Bu(τ)dτ)$$\n",
        "\n",
        "\\\n",
        "\n",
        "Now using Taylor series expansion,\n",
        "\n",
        "\\\n",
        "\n",
        "$$e^{AΔt} = I + A\\Delta t + \\frac{1}{2}A^2Δt^2+....$$\n",
        "\n",
        "As Δt is very small, we can ignore terms from $\\frac{1}{2}A^2Δt^2 + ....$,\n",
        "\n",
        "\\\n",
        "\n",
        "$$e^{AΔt} = \\begin{bmatrix} 1&0&Δt&0 \\\\ 0&1&0&Δt \\\\ 0&0&1&0 \\\\ 0&0&0&1 \\end{bmatrix}$$\n",
        "\n",
        "\\\n",
        "\n",
        "$$e^{-Aτ} = \\begin{bmatrix} 1&0&-τ&0 \\\\ 0&1&0&-τ \\\\ 0&0&1&0 \\\\ 0&0&0&1 \\end{bmatrix}$$\n",
        "\n",
        "\\\n",
        "\n",
        "Plugging values in $z_{k+1}$,\n",
        "\n",
        "\\\n",
        "\n",
        "$$z_{k+1} = e^{AΔt}(z_k + \\int_{0}^{\\Delta t} \\begin{bmatrix} 1&0&-τ&0 \\\\ 0&1&0&-τ \\\\ 0&0&1&0 \\\\ 0&0&0&1 \\end{bmatrix} \\begin{bmatrix} 0&0 \\\\ 0&0 \\\\ 1&0 \\\\ 0&1 \\end{bmatrix} \\begin{bmatrix} a_x \\\\ a_y  \\end{bmatrix} dτ)$$\n",
        "\n",
        "\\\n",
        "\n",
        "$$z_{k+1} = e^{AΔt}(z_k + \\int_{0}^{\\Delta t} \\begin{bmatrix} 1&0&-τ&0 \\\\ 0&1&0&-τ \\\\ 0&0&1&0 \\\\ 0&0&0&1 \\end{bmatrix} \\begin{bmatrix} 0 \\\\ 0 \\\\ a_x \\\\ a_y \\end{bmatrix}dτ)$$\n",
        "\n",
        "\\\n",
        "\n",
        "$$z_{k+1} = e^{AΔt}(z_k + \\int_{0}^{\\Delta t} \\begin{bmatrix} -a_xτ \\\\ -a_yτ \\\\ a_x \\\\ a_y \\end{bmatrix}dτ)$$\n",
        "\n",
        "\\\n",
        "\n",
        "$$z_{k+1} = e^{AΔt}(z_k + \\begin{bmatrix} -\\frac{1}{2} a_xτ^2 \\\\ -\\frac{1}{2}a_yτ^2 \\\\ a_xτ \\\\ a_yτ \\end{bmatrix}_{0}^{\\Delta t})$$\n",
        "\n",
        "\\\n",
        "\n",
        "$$z_{k+1} = e^{AΔt}(z_k + \\begin{bmatrix} -\\frac{1}{2} a_x\\Delta t^2 \\\\ -\\frac{1}{2}a_y\\Delta t^2 \\\\ a_x\\Delta t \\\\ a_y\\Delta t \\end{bmatrix})$$\n",
        "\n",
        "\\\n",
        "\n",
        "$$z_{k+1} = e^{AΔt}z_k + e^{AΔt}\\begin{bmatrix} -\\frac{1}{2} a_x\\Delta t^2 \\\\ -\\frac{1}{2}a_y\\Delta t^2 \\\\ a_x\\Delta t \\\\ a_y\\Delta t \\end{bmatrix}$$\n",
        "\n",
        "\\\n",
        "\n",
        "$$z_{k+1} = \\begin{bmatrix} 1&0&Δt&0 \\\\ 0&1&0&Δt \\\\ 0&0&1&0 \\\\ 0&0&0&1 \\end{bmatrix}z_k + \\begin{bmatrix} 1&0&Δt&0 \\\\ 0&1&0&Δt \\\\ 0&0&1&0 \\\\ 0&0&0&1 \\end{bmatrix}\\begin{bmatrix} -\\frac{1}{2} a_x\\Delta t^2 \\\\ -\\frac{1}{2}a_y\\Delta t^2 \\\\ a_x\\Delta t \\\\ a_y\\Delta t \\end{bmatrix}$$\n",
        "\n",
        "\\\n",
        "\n",
        "$$z_{k+1} = \\begin{bmatrix} 1&0&Δt&0 \\\\ 0&1&0&Δt \\\\ 0&0&1&0 \\\\ 0&0&0&1 \\end{bmatrix}z_k + \\begin{bmatrix} \\frac{1}{2} a_x\\Delta t^2 \\\\ \\frac{1}{2} a_y\\Delta t^2 \\\\ a_x\\Delta t \\\\ a_y\\Delta t \\end{bmatrix}$$\n",
        "\n",
        "\\\n",
        "\n",
        "$$\\boxed{z_{k+1} = {\\begin{bmatrix} 1&0&Δt&0 \\\\ 0&1&0&Δt \\\\ 0&0&1&0 \\\\ 0&0&0&1 \\end{bmatrix}}\n",
        "\\text{$z_k$} + \n",
        "{\\begin{bmatrix} \\frac{1}{2} \\Delta t^2 & 0 \\\\ 0 & \\frac{1}{2}\\Delta t^2 \\\\ \\Delta t & 0 \\\\ 0 & \\Delta t \\end{bmatrix}}\n",
        "{{\\begin{bmatrix} a_x \\\\ a_y \\end{bmatrix}}}}$$"
      ],
      "metadata": {
        "id": "zRgfE9pjbjQW"
      }
    },
    {
      "cell_type": "markdown",
      "source": [
        "## 4(b)"
      ],
      "metadata": {
        "id": "0ofIwLU5bjL8"
      }
    },
    {
      "cell_type": "markdown",
      "source": [],
      "metadata": {
        "id": "H9hcO6U_bjIu"
      }
    },
    {
      "cell_type": "markdown",
      "source": [],
      "metadata": {
        "id": "FdKqRpKlbjA2"
      }
    },
    {
      "cell_type": "code",
      "source": [
        "import cvxpy as cp\n",
        "\n",
        "\n",
        "T = 50  # number of time steps\n",
        "n = 4   # state dimension\n",
        "m = 2   # control dimension\n",
        "\n",
        "\n",
        "xs = cp.Variable([T+1,n]) # state trajectory variable\n",
        "us = cp.Variable([T,m])   # control trajectory variable\n",
        "\n",
        "### Add your code here\n",
        "\n",
        "######################\n",
        "\n",
        "\n",
        "# plotting out results.\n",
        "states = xs.value \n",
        "controls = us.value\n",
        "\n",
        "plt.figure(figsize=(15,5))\n",
        "plt.subplot(1,2,1)\n",
        "plt.plot(states[:,0], states[:,1])\n",
        "plt.quiver(states[:,0], states[:,1], states[:,2], states[:,3], scale=30, width=.003)\n",
        "plt.quiver(states[:-1,0], states[:-1,1], controls[:,0], controls[:,1], scale=30, width=.003, color='red')\n",
        "plt.title(\"Optimal Trajectory with velocity and acceleration vector\")\n",
        "plt.xlabel(\"$x$ position\")\n",
        "plt.ylabel(\"$y$ position\")\n",
        "plt.grid()\n",
        "\n",
        "plt.subplot(1,2,2)\n",
        "plt.plot(controls)\n",
        "plt.plot(np.linalg.norm(controls, 2, axis=1), '--')\n",
        "plt.title(\"Optimal Control Sequence\")\n",
        "plt.xlabel(\"Time (s)\")\n",
        "plt.ylabel(\"Acceleration\")\n",
        "plt.legend([\"$a_x$\", \"$a_y$\", \"$\\|a\\|_2$\"])\n",
        "plt.grid()"
      ],
      "metadata": {
        "id": "9_tuIXHhakpT"
      },
      "execution_count": null,
      "outputs": []
    }
  ]
}