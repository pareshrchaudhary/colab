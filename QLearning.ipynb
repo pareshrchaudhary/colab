{
  "nbformat": 4,
  "nbformat_minor": 0,
  "metadata": {
    "colab": {
      "provenance": [],
      "authorship_tag": "ABX9TyNFWem+TcVjOz4+FTGSitgF",
      "include_colab_link": true
    },
    "kernelspec": {
      "name": "python3",
      "display_name": "Python 3"
    },
    "language_info": {
      "name": "python"
    }
  },
  "cells": [
    {
      "cell_type": "markdown",
      "metadata": {
        "id": "view-in-github",
        "colab_type": "text"
      },
      "source": [
        "<a href=\"https://colab.research.google.com/github/pareshrchaudhary/colab/blob/main/QLearning.ipynb\" target=\"_parent\"><img src=\"https://colab.research.google.com/assets/colab-badge.svg\" alt=\"Open In Colab\"/></a>"
      ]
    },
    {
      "cell_type": "markdown",
      "source": [
        "#Imports\n"
      ],
      "metadata": {
        "id": "G5Qqn_8I5fcV"
      }
    },
    {
      "cell_type": "code",
      "source": [
        "import numpy as np\n",
        "import math\n",
        "import torch\n",
        "import torch.nn as nn\n",
        "import torch.nn.functional as F\n",
        "import torch.optim as optim\n",
        "from torch.autograd import Variable\n",
        "from collections import deque\n",
        "import matplotlib.pyplot as plt\n",
        "import random"
      ],
      "metadata": {
        "id": "2EA2xKgQO_QM"
      },
      "execution_count": 190,
      "outputs": []
    },
    {
      "cell_type": "markdown",
      "source": [
        "#Target Trajectory"
      ],
      "metadata": {
        "id": "1GZK7x435jr6"
      }
    },
    {
      "cell_type": "code",
      "source": [
        "NTRAJSTEPS = 65 # no gap for dt = 0.1\n",
        "dt = 0.1\n",
        "\n",
        "target = torch.zeros((NTRAJSTEPS, 3))\n",
        "targtrajarray = torch.arange(0.0, NTRAJSTEPS*dt, dt)\n",
        "\n",
        "# Circle: compute positions\n",
        "x = 100 * torch.cos(targtrajarray)\n",
        "y = 100 * torch.sin(targtrajarray)\n",
        "\n",
        "# Compute headings from positions\n",
        "prevpos = torch.stack((x[:-2], y[:-2]), dim=1)\n",
        "nextpos = torch.stack((x[2:], y[2:]), dim=1)\n",
        "heading = nextpos - prevpos\n",
        "theta = torch.atan2(heading[:, 1], heading[:, 0])\n",
        "\n",
        "# Add heading for first and last position\n",
        "theta = torch.cat((torch.tensor([torch.atan2(y[1] - y[0], x[1] - x[0])]), theta, torch.tensor([torch.atan2(y[-1] - y[-2], x[-1] - x[-2])])))\n",
        "\n",
        "target = torch.cat((x.unsqueeze(1), y.unsqueeze(1), theta.unsqueeze(1)), dim=1)\n",
        "print(target.shape)\n",
        "plt.figure()\n",
        "plt.plot(target[:, 0], target[:, 1], 'r.')\n",
        "plt.axis('square')\n",
        "plt.title('Target Trajectory (x,y)')\n",
        "plt.show()"
      ],
      "metadata": {
        "colab": {
          "base_uri": "https://localhost:8080/",
          "height": 469
        },
        "id": "DphmyU1XjFNv",
        "outputId": "950bcfd4-0d93-4849-e3c9-5a063d9e1627"
      },
      "execution_count": 234,
      "outputs": [
        {
          "output_type": "stream",
          "name": "stdout",
          "text": [
            "torch.Size([65, 3])\n"
          ]
        },
        {
          "output_type": "display_data",
          "data": {
            "text/plain": [
              "<Figure size 640x480 with 1 Axes>"
            ],
            "image/png": "[encoded data removed]"
          },
          "metadata": {}
        }
      ]
    },
    {
      "cell_type": "markdown",
      "source": [
        "#Dynamics, Reward and other Functions "
      ],
      "metadata": {
        "id": "3P7uanC15oIS"
      }
    },
    {
      "cell_type": "code",
      "source": [
        "## DO NOT ALTER ##\n",
        "rad2deg = 180.0 / np.pi\n",
        "deg2rad = np.pi / 180.0\n",
        "dt = 0.02"
      ],
      "metadata": {
        "id": "fkYQH43SPGsu"
      },
      "execution_count": 227,
      "outputs": []
    },
    {
      "cell_type": "code",
      "source": [
        "class CarEnvironment:\n",
        "    def __init__(self, dt=0.02):\n",
        "        self.L = 1  # Length of the car\n",
        "        self.dt = dt  # Time step\n",
        "        self.done = False\n",
        "\n",
        "    def car_dynamics(self, state, action):\n",
        "        assert len(state) == 3, \"state must be a tensor of shape (3,)\"\n",
        "        assert len(action) == 2, \"action must be a tensor of shape (2,)\"\n",
        "\n",
        "        x, y, theta = state\n",
        "        velocity, delta = action\n",
        "\n",
        "        xnew = x + torch.cos(theta) * velocity * self.dt\n",
        "        ynew = y + torch.sin(theta) * velocity * self.dt\n",
        "        thetanew = theta + (velocity / self.L) * torch.tan(delta) * self.dt\n",
        "        thetanew = thetanew % (2.0 * math.pi)\n",
        "        new_state = torch.tensor([xnew, ynew, thetanew])\n",
        "        return new_state\n",
        "\n",
        "    def find_nearest(self, target, current):\n",
        "        assert target.shape == torch.Size([65, 3]),  \"target must be a (65,3) tensor\"\n",
        "        assert len(current) == 3, \"state must be a tensor of shape (3,)\"\n",
        "\n",
        "        lookahead = 2\n",
        "        x, y, theta = current\n",
        "\n",
        "        inter_x = (target[:-lookahead-1, 0] - x)**2\n",
        "        inter_y = (target[:-lookahead-1, 1] - y)**2\n",
        "        dist = torch.sqrt(inter_x + inter_y)\n",
        "        minindex = torch.argmin(dist)\n",
        "        return minindex\n",
        "\n",
        "    def calculate_deviation(self, mi, target, current):\n",
        "        assert mi >= 0, \"mi must be a non-negative integer\"\n",
        "        assert target.shape == torch.Size([65, 3]),  \"target must be a (65,3) tensor\"\n",
        "\n",
        "        x, y, theta = current\n",
        "        nearest_trajectory = torch.stack((target[mi, 0] - x, target[mi, 1] - y), dim=0)\n",
        "\n",
        "        car_xvec = torch.cos((math.pi/2.0) + theta)\n",
        "        car_yvec = torch.sin((math.pi/2.0) + theta)\n",
        "        carLeftvec = torch.stack((car_xvec, car_yvec), dim=0)\n",
        "\n",
        "        error = -torch.dot(nearest_trajectory, carLeftvec)\n",
        "        return error\n",
        "\n",
        "    def calculate_reward(self, state, target):\n",
        "        assert len(state) == 3, \"state must be a tensor of shape (3,)\"\n",
        "        assert target.shape == torch.Size([65, 3]),  \"target must be a (65,3) tensor\"\n",
        "\n",
        "        nearest_index = self.find_nearest(target, state)\n",
        "        deviation_error = self.calculate_deviation(nearest_index, target, state)\n",
        "\n",
        "        if deviation_error >= 0:\n",
        "            reward = 1.0\n",
        "        else:\n",
        "            reward = -1.0\n",
        "\n",
        "        return reward\n",
        "\n",
        "    def step(self, state, action, target):\n",
        "      next_state = self.car_dynamics(state, action)\n",
        "      reward = self.calculate_reward(state, target)\n",
        "\n",
        "      index = self.find_nearest(target, state) # Termination\n",
        "      if (index == 65):\n",
        "        self.done = True\n",
        "\n",
        "      return next_state, reward, self.done"
      ],
      "metadata": {
        "id": "JPYmrdKi_c3t"
      },
      "execution_count": 282,
      "outputs": []
    },
    {
      "cell_type": "code",
      "source": [
        "# Create an instance of CarEnvironment\n",
        "env = CarEnvironment()\n",
        "\n",
        "# Define a state, action, and target tensors\n",
        "state = torch.tensor([0.0, 0.0, 0.0])\n",
        "action = torch.tensor([1.0, 0.1])\n",
        "target = torch.randn(65, 3)\n",
        "\n",
        "# Calculate the reward\n",
        "reward = env.calculate_reward(state, target)\n",
        "print(\"Reward:\", reward)\n",
        "\n",
        "# Perform a step in the environment\n",
        "next_state, reward, done = env.step(state, action, target)\n",
        "print(\"Next state:\", next_state)\n",
        "print(\"Reward:\", reward)\n",
        "print(\"Done:\", done)"
      ],
      "metadata": {
        "colab": {
          "base_uri": "https://localhost:8080/"
        },
        "id": "3kYIepbt_m58",
        "outputId": "2fb54c46-c2e7-4799-8458-86fa97d5e750"
      },
      "execution_count": 281,
      "outputs": [
        {
          "output_type": "stream",
          "name": "stdout",
          "text": [
            "Reward: 1.0\n",
            "Next state: tensor([0.0200, 0.0000, 0.0020])\n",
            "Reward: 1.0\n",
            "Done: False\n"
          ]
        }
      ]
    },
    {
      "cell_type": "markdown",
      "source": [
        "#Deep Q Network "
      ],
      "metadata": {
        "id": "J0hhYTlO5zZo"
      }
    },
    {
      "cell_type": "code",
      "source": [
        "class DQN(nn.Module):\n",
        "    def __init__(self, state_dim, action_dim):\n",
        "        super(DQN, self).__init__()\n",
        "        self.fc1 = nn.Linear(state_dim, 32)\n",
        "        self.fc2 = nn.Linear(32, 64)\n",
        "        self.fc3 = nn.Linear(64, 128)\n",
        "        self.fc4 = nn.Linear(128, 64)\n",
        "        self.fc5 = nn.Linear(64, 32)\n",
        "        self.fc6 = nn.Linear(32, action_dim)\n",
        "\n",
        "    def forward(self, state):\n",
        "        x = F.relu(self.fc1(state))\n",
        "        x = F.relu(self.fc2(x))\n",
        "        x = F.relu(self.fc3(x))\n",
        "        x = F.relu(self.fc4(x))\n",
        "        x = F.relu(self.fc5(x))\n",
        "        q_values = self.fc6(x)\n",
        "        return q_values\n",
        "\n",
        "    def initialize_weights(self):\n",
        "      for module in self.modules():\n",
        "        if isinstance(module, nn.Linear):\n",
        "          nn.init.xavier_uniform_(module.weight.data)\n",
        "          nn.init.constant_(module.bias.data, 0.0)"
      ],
      "metadata": {
        "id": "8xwccSOBBSmQ"
      },
      "execution_count": 191,
      "outputs": []
    },
    {
      "cell_type": "code",
      "source": [
        "#model test\n",
        "state_dim = 3\n",
        "action_dim = 2\n",
        "dqn = DQN(state_dim, action_dim)\n",
        "dqn"
      ],
      "metadata": {
        "colab": {
          "base_uri": "https://localhost:8080/"
        },
        "id": "fZcgi1M4yV4n",
        "outputId": "32fcd48f-dbed-4c77-ed68-e90ac3c0c007"
      },
      "execution_count": 216,
      "outputs": [
        {
          "output_type": "execute_result",
          "data": {
            "text/plain": [
              "DQN(\n",
              "  (fc1): Linear(in_features=3, out_features=32, bias=True)\n",
              "  (fc2): Linear(in_features=32, out_features=64, bias=True)\n",
              "  (fc3): Linear(in_features=64, out_features=128, bias=True)\n",
              "  (fc4): Linear(in_features=128, out_features=64, bias=True)\n",
              "  (fc5): Linear(in_features=64, out_features=32, bias=True)\n",
              "  (fc6): Linear(in_features=32, out_features=2, bias=True)\n",
              ")"
            ]
          },
          "metadata": {},
          "execution_count": 216
        }
      ]
    },
    {
      "cell_type": "code",
      "source": [
        "dqn.initialize_weights()\n",
        "sample_state = torch.tensor([1.0, 2.0, 0.5])  # Example input state\n",
        "\n",
        "q_values = dqn.forward(sample_state)\n",
        "print(q_values)"
      ],
      "metadata": {
        "colab": {
          "base_uri": "https://localhost:8080/"
        },
        "id": "QNUg9PQen-tN",
        "outputId": "1a48e8ec-1218-4fa3-a8e6-3c9bee06d806"
      },
      "execution_count": 259,
      "outputs": [
        {
          "output_type": "stream",
          "name": "stdout",
          "text": [
            "tensor([0.3208, 0.2081], grad_fn=<AddBackward0>)\n"
          ]
        }
      ]
    },
    {
      "cell_type": "markdown",
      "source": [
        "# Experience Play - ReplayBuffer"
      ],
      "metadata": {
        "id": "yn_JVFRF53x4"
      }
    },
    {
      "cell_type": "code",
      "source": [
        "class ReplayBuffer():\n",
        "    def __init__(self, buffer_size):\n",
        "        self.buffer_size = buffer_size\n",
        "        self.buffer = []\n",
        "\n",
        "    def add_experience(self, state, action, reward, next_state, done):\n",
        "        experience = (state, action, reward, next_state, done)\n",
        "        self.buffer.append(experience)\n",
        "        if len(self.buffer) > self.buffer_size:\n",
        "            self.buffer.pop(0)\n",
        "\n",
        "    def sample_batch(self, batch_size):\n",
        "        if len(self.buffer) < batch_size:\n",
        "            return None  # Return None if buffer does not have enough samples\n",
        "\n",
        "        batch = random.sample(self.buffer, batch_size)\n",
        "        states, actions, rewards, next_states, dones = zip(*batch)\n",
        "        return (states, actions, rewards, next_states, dones)\n",
        "\n",
        "    def __len__(self):\n",
        "        return len(self.buffer)"
      ],
      "metadata": {
        "id": "Y3qSVH48D-Q2"
      },
      "execution_count": 339,
      "outputs": []
    },
    {
      "cell_type": "code",
      "source": [
        "# Test buffer\n",
        "buffer = ReplayBuffer(buffer_size=1000)\n",
        "\n",
        "# Add experiences to the buffer\n",
        "state = torch.tensor([1.0, 2.0, 0.5])  # Example state\n",
        "action =  torch.tensor([0.1909, -0.0496])  # Example action\n",
        "reward = 0.1  # Example reward\n",
        "next_state = torch.tensor([1.2, 2.1, 0.6])  # Example next state\n",
        "done = False  # Example done flag\n",
        "buffer.add_experience(state, action, reward, next_state, done)\n",
        "\n",
        "# Sample a batch from the buffer\n",
        "batch_size = 1\n",
        "states, actions, rewards, next_states, dones = buffer.sample_batch(batch_size)\n",
        "\n",
        "# Check the length of the buffer\n",
        "buffer_length = len(buffer)\n",
        "\n",
        "print(\"States:\", states)\n",
        "print(\"Actions:\", actions)\n",
        "print(\"Rewards:\", rewards)\n",
        "print(\"Next States:\", next_states)\n",
        "print(\"Dones:\", dones)\n",
        "print(\"Buffer Length:\", buffer_length)"
      ],
      "metadata": {
        "colab": {
          "base_uri": "https://localhost:8080/"
        },
        "id": "NKFd39ojq0ow",
        "outputId": "273476de-d11f-40c1-ad1c-00d24192e6ef"
      },
      "execution_count": 333,
      "outputs": [
        {
          "output_type": "stream",
          "name": "stdout",
          "text": [
            "States: (tensor([1.0000, 2.0000, 0.5000]),)\n",
            "Actions: (tensor([ 0.1909, -0.0496]),)\n",
            "Rewards: (0.1,)\n",
            "Next States: (tensor([1.2000, 2.1000, 0.6000]),)\n",
            "Dones: (False,)\n",
            "Buffer Length: 1\n"
          ]
        }
      ]
    },
    {
      "cell_type": "code",
      "source": [
        "test = ReplayBuffer(buffer_size=1000)\n",
        "\n",
        "for i in range(0, 32):\n",
        "  state = torch.tensor([1.0, 2.0, 0.5])  # Example state\n",
        "  action =  torch.tensor([0.1909, -0.0496])  # Example action\n",
        "  reward = 0.1  # Example reward\n",
        "  next_state = torch.tensor([1.2, 2.1, 0.6])  # Example next state\n",
        "  done = False  # Example done flag\n",
        "  test.add_experience(state, action, reward, next_state, done)\n",
        "\n",
        "batch_size = 32\n",
        "batch = test.sample_batch(batch_size)\n",
        "print(len(test))\n",
        "print(batch)\n",
        "# states, actions, rewards, next_states, dones = buffer.sample_batch(batch_size)"
      ],
      "metadata": {
        "colab": {
          "base_uri": "https://localhost:8080/"
        },
        "id": "8Yk2AKeiVUcT",
        "outputId": "c6e747fe-b995-4ddf-f2bf-a4ef44860aef"
      },
      "execution_count": 341,
      "outputs": [
        {
          "output_type": "stream",
          "name": "stdout",
          "text": [
            "32\n",
            "((tensor([1.0000, 2.0000, 0.5000]), tensor([1.0000, 2.0000, 0.5000]), tensor([1.0000, 2.0000, 0.5000]), tensor([1.0000, 2.0000, 0.5000]), tensor([1.0000, 2.0000, 0.5000]), tensor([1.0000, 2.0000, 0.5000]), tensor([1.0000, 2.0000, 0.5000]), tensor([1.0000, 2.0000, 0.5000]), tensor([1.0000, 2.0000, 0.5000]), tensor([1.0000, 2.0000, 0.5000]), tensor([1.0000, 2.0000, 0.5000]), tensor([1.0000, 2.0000, 0.5000]), tensor([1.0000, 2.0000, 0.5000]), tensor([1.0000, 2.0000, 0.5000]), tensor([1.0000, 2.0000, 0.5000]), tensor([1.0000, 2.0000, 0.5000]), tensor([1.0000, 2.0000, 0.5000]), tensor([1.0000, 2.0000, 0.5000]), tensor([1.0000, 2.0000, 0.5000]), tensor([1.0000, 2.0000, 0.5000]), tensor([1.0000, 2.0000, 0.5000]), tensor([1.0000, 2.0000, 0.5000]), tensor([1.0000, 2.0000, 0.5000]), tensor([1.0000, 2.0000, 0.5000]), tensor([1.0000, 2.0000, 0.5000]), tensor([1.0000, 2.0000, 0.5000]), tensor([1.0000, 2.0000, 0.5000]), tensor([1.0000, 2.0000, 0.5000]), tensor([1.0000, 2.0000, 0.5000]), tensor([1.0000, 2.0000, 0.5000]), tensor([1.0000, 2.0000, 0.5000]), tensor([1.0000, 2.0000, 0.5000])), (tensor([ 0.1909, -0.0496]), tensor([ 0.1909, -0.0496]), tensor([ 0.1909, -0.0496]), tensor([ 0.1909, -0.0496]), tensor([ 0.1909, -0.0496]), tensor([ 0.1909, -0.0496]), tensor([ 0.1909, -0.0496]), tensor([ 0.1909, -0.0496]), tensor([ 0.1909, -0.0496]), tensor([ 0.1909, -0.0496]), tensor([ 0.1909, -0.0496]), tensor([ 0.1909, -0.0496]), tensor([ 0.1909, -0.0496]), tensor([ 0.1909, -0.0496]), tensor([ 0.1909, -0.0496]), tensor([ 0.1909, -0.0496]), tensor([ 0.1909, -0.0496]), tensor([ 0.1909, -0.0496]), tensor([ 0.1909, -0.0496]), tensor([ 0.1909, -0.0496]), tensor([ 0.1909, -0.0496]), tensor([ 0.1909, -0.0496]), tensor([ 0.1909, -0.0496]), tensor([ 0.1909, -0.0496]), tensor([ 0.1909, -0.0496]), tensor([ 0.1909, -0.0496]), tensor([ 0.1909, -0.0496]), tensor([ 0.1909, -0.0496]), tensor([ 0.1909, -0.0496]), tensor([ 0.1909, -0.0496]), tensor([ 0.1909, -0.0496]), tensor([ 0.1909, -0.0496])), (0.1, 0.1, 0.1, 0.1, 0.1, 0.1, 0.1, 0.1, 0.1, 0.1, 0.1, 0.1, 0.1, 0.1, 0.1, 0.1, 0.1, 0.1, 0.1, 0.1, 0.1, 0.1, 0.1, 0.1, 0.1, 0.1, 0.1, 0.1, 0.1, 0.1, 0.1, 0.1), (tensor([1.2000, 2.1000, 0.6000]), tensor([1.2000, 2.1000, 0.6000]), tensor([1.2000, 2.1000, 0.6000]), tensor([1.2000, 2.1000, 0.6000]), tensor([1.2000, 2.1000, 0.6000]), tensor([1.2000, 2.1000, 0.6000]), tensor([1.2000, 2.1000, 0.6000]), tensor([1.2000, 2.1000, 0.6000]), tensor([1.2000, 2.1000, 0.6000]), tensor([1.2000, 2.1000, 0.6000]), tensor([1.2000, 2.1000, 0.6000]), tensor([1.2000, 2.1000, 0.6000]), tensor([1.2000, 2.1000, 0.6000]), tensor([1.2000, 2.1000, 0.6000]), tensor([1.2000, 2.1000, 0.6000]), tensor([1.2000, 2.1000, 0.6000]), tensor([1.2000, 2.1000, 0.6000]), tensor([1.2000, 2.1000, 0.6000]), tensor([1.2000, 2.1000, 0.6000]), tensor([1.2000, 2.1000, 0.6000]), tensor([1.2000, 2.1000, 0.6000]), tensor([1.2000, 2.1000, 0.6000]), tensor([1.2000, 2.1000, 0.6000]), tensor([1.2000, 2.1000, 0.6000]), tensor([1.2000, 2.1000, 0.6000]), tensor([1.2000, 2.1000, 0.6000]), tensor([1.2000, 2.1000, 0.6000]), tensor([1.2000, 2.1000, 0.6000]), tensor([1.2000, 2.1000, 0.6000]), tensor([1.2000, 2.1000, 0.6000]), tensor([1.2000, 2.1000, 0.6000]), tensor([1.2000, 2.1000, 0.6000])), (False, False, False, False, False, False, False, False, False, False, False, False, False, False, False, False, False, False, False, False, False, False, False, False, False, False, False, False, False, False, False, False))\n"
          ]
        }
      ]
    },
    {
      "cell_type": "markdown",
      "source": [
        "# Q Learning Functions"
      ],
      "metadata": {
        "id": "5aENzQv56FIe"
      }
    },
    {
      "cell_type": "code",
      "source": [
        "# Q Learning Functions\n",
        "def choose_action(state, q_net, epsilon):\n",
        "    if torch.rand(()) < epsilon: # Explore (choose a random action)\n",
        "        action = torch.randn(2)\n",
        "    else:\n",
        "      with torch.no_grad():      # Exploit (choose the action with the maximum Q-value)\n",
        "        q_values = q_values = q_net(state.clone().detach().requires_grad_(True))  \n",
        "        index = torch.argmin(q_values)\n",
        "        action = q_values.clone().detach()\n",
        "        action[index] = 0.0\n",
        "    return action"
      ],
      "metadata": {
        "id": "fpue-sGo3I-g"
      },
      "execution_count": 476,
      "outputs": []
    },
    {
      "cell_type": "code",
      "source": [
        "choose_action(state, dqn, 0.95)"
      ],
      "metadata": {
        "colab": {
          "base_uri": "https://localhost:8080/"
        },
        "id": "mCjwksii9KRx",
        "outputId": "98848532-9a43-40d1-cf0c-6f978fc37752"
      },
      "execution_count": 477,
      "outputs": [
        {
          "output_type": "execute_result",
          "data": {
            "text/plain": [
              "tensor([0.0000, 0.4149])"
            ]
          },
          "metadata": {},
          "execution_count": 477
        }
      ]
    },
    {
      "cell_type": "markdown",
      "source": [
        "#Training"
      ],
      "metadata": {
        "id": "NwWvk5wxkU6_"
      }
    },
    {
      "cell_type": "code",
      "source": [
        "# Environment parameters\n",
        "dt = 0.02\n",
        "env = CarEnvironment(dt)\n",
        "initial_state = torch.tensor([100.0, 0.0, 90.0 * deg2rad])\n",
        "rad2deg = 180.0 / np.pi\n",
        "deg2rad = np.pi / 180.0\n",
        "\n",
        "# Q-Network\n",
        "state_dim = 3\n",
        "action_dim = 2\n",
        "dqn = DQN(state_dim, action_dim)\n",
        "dqn.initialize_weights()\n",
        "target_network = DQN(state_dim, action_dim)\n",
        "target_network.load_state_dict(dqn.state_dict())\n",
        "target_network.eval()\n",
        "optimizer = torch.optim.Adam(dqn.parameters(), lr=0.001)\n",
        "\n",
        "# Experience Replay - Buffer\n",
        "buffer_size = 10000\n",
        "batch_size = 32\n",
        "replay_buffer = ReplayBuffer(buffer_size)\n",
        "\n",
        "# Training Loop Parameters\n",
        "num_episodes = 1000\n",
        "drivestep = 320\n",
        "\n",
        "learning_rate = 0.001\n",
        "epsilon = 1.0  # Initial exploration rate\n",
        "epsilon_decay = 0.995  # Decay rate of exploration rate\n",
        "epsilon_min = 0.01  # Minimum exploration rate\n",
        "gamma = 0.99  # Discount factor"
      ],
      "metadata": {
        "id": "kndaI2ojBwqA"
      },
      "execution_count": 480,
      "outputs": []
    },
    {
      "cell_type": "code",
      "source": [
        "for episode in range(0,num_episodes):\n",
        "  state = initial_state\n",
        "  total_reward = 0\n",
        "  target_update_interval = 100\n",
        "  for t in range(0,drivestep):\n",
        "    action = choose_action(state, dqn, epsilon)\n",
        "    next_state, reward, done = env.step(state, action, target)\n",
        "    # print(\"State: \", state, \"Action: \", action,\"Reward: \", reward, \"Next State: \", next_state, \"Done: \", done)\n",
        "    replay_buffer.add_experience(state, action, reward, next_state, done)\n",
        "\n",
        "    if len(replay_buffer) >= batch_size:\n",
        "      # mini_batch of experiences\n",
        "      states, actions, rewards, next_states, dones = replay_buffer.sample_batch(batch_size)\n",
        "      # Convert the lists to PyTorch tensors\n",
        "      states = torch.stack(states)\n",
        "      actions = torch.stack(actions)\n",
        "      rewards = torch.tensor(rewards, dtype=torch.float32)\n",
        "      next_states = torch.stack(next_states)\n",
        "      dones = torch.tensor(dones, dtype=torch.bool)\n",
        "      # print(\"\\nStates: \", states, \"\\nActions: \", actions,\"\\nRewards: \", rewards, \"\\nNext States: \", next_states, \"\\nDones: \", dones)\n",
        "      \n",
        "      # Compute target Q-values\n",
        "      with torch.no_grad():\n",
        "          target_q_values = target_network(next_states)\n",
        "          print(\"target_q_values = \", target_q_values.shape)\n",
        "          target_q_values = torch.max(target_q_values, dim=1)[0]  # Take the maximum Q-value for each next state\n",
        "          \n",
        "          target_q_values[dones] = 0  # Set target Q-values to 0 for terminal states\n",
        "          target_q_values = rewards + gamma * target_q_values\n",
        "\n",
        "\n",
        "      # Compute current Q-values\n",
        "      predicted_q_values = dqn(states)\n",
        "      print(\"predicted_q_values = \", predicted_q_values.shape)\n",
        "      # Convert the actions tensor to long data type\n",
        "      actions = actions.long()  # Convert actions to torch.long data type\n",
        "      predicted_q_values = predicted_q_values.gather(1, actions.unsqueeze(1)).squeeze(1)\n",
        "\n",
        "      # Compute the loss function\n",
        "      loss = F.smooth_l1_loss(predicted_q_values, target_q_values)\n",
        "\n",
        "      # Perform Optimization\n",
        "      optimizer.zero_grad()\n",
        "      loss.backward()\n",
        "      optimizer.step()\n",
        "\n",
        "      # Update the current state\n",
        "      state = next_state\n",
        "      total_reward += reward\n",
        "\n",
        "      # Update the target network periodically\n",
        "      if t % target_update_interval == 0:\n",
        "          target_network.load_state_dict(dqn.state_dict())\n",
        "\n",
        "    # Update exploration parameter\n",
        "    print(f\"Episode: {episode+1}, Total Reward: {total_reward}\")\n",
        "    epsilon = max(epsilon * epsilon_decay, epsilon_min)\n",
        "\n",
        "    # Check if the episode is done\n",
        "    if done:\n",
        "        break\n"
      ],
      "metadata": {
        "colab": {
          "base_uri": "https://localhost:8080/",
          "height": 269
        },
        "id": "iGFkY7Hpv2HP",
        "outputId": "e3016319-9dad-43df-b2d0-925b6d39831a"
      },
      "execution_count": 482,
      "outputs": [
        {
          "output_type": "stream",
          "name": "stdout",
          "text": [
            "target_q_values =  torch.Size([32, 2])\n",
            "predicted_q_values =  torch.Size([32, 2])\n"
          ]
        },
        {
          "output_type": "error",
          "ename": "RuntimeError",
          "evalue": "ignored",
          "traceback": [
            "\u001b[0;31m---------------------------------------------------------------------------\u001b[0m",
            "\u001b[0;31mRuntimeError\u001b[0m                              Traceback (most recent call last)",
            "\u001b[0;32m<ipython-input-482-24c1e3eb358a>\u001b[0m in \u001b[0;36m<cell line: 1>\u001b[0;34m()\u001b[0m\n\u001b[1;32m     35\u001b[0m       \u001b[0;31m# Convert the actions tensor to long data type\u001b[0m\u001b[0;34m\u001b[0m\u001b[0;34m\u001b[0m\u001b[0m\n\u001b[1;32m     36\u001b[0m       \u001b[0mactions\u001b[0m \u001b[0;34m=\u001b[0m \u001b[0mactions\u001b[0m\u001b[0;34m.\u001b[0m\u001b[0mlong\u001b[0m\u001b[0;34m(\u001b[0m\u001b[0;34m)\u001b[0m  \u001b[0;31m# Convert actions to torch.long data type\u001b[0m\u001b[0;34m\u001b[0m\u001b[0;34m\u001b[0m\u001b[0m\n\u001b[0;32m---> 37\u001b[0;31m       \u001b[0mpredicted_q_values\u001b[0m \u001b[0;34m=\u001b[0m \u001b[0mpredicted_q_values\u001b[0m\u001b[0;34m.\u001b[0m\u001b[0mgather\u001b[0m\u001b[0;34m(\u001b[0m\u001b[0;36m1\u001b[0m\u001b[0;34m,\u001b[0m \u001b[0mactions\u001b[0m\u001b[0;34m.\u001b[0m\u001b[0munsqueeze\u001b[0m\u001b[0;34m(\u001b[0m\u001b[0;36m1\u001b[0m\u001b[0;34m)\u001b[0m\u001b[0;34m)\u001b[0m\u001b[0;34m.\u001b[0m\u001b[0msqueeze\u001b[0m\u001b[0;34m(\u001b[0m\u001b[0;36m1\u001b[0m\u001b[0;34m)\u001b[0m\u001b[0;34m\u001b[0m\u001b[0;34m\u001b[0m\u001b[0m\n\u001b[0m\u001b[1;32m     38\u001b[0m \u001b[0;34m\u001b[0m\u001b[0m\n\u001b[1;32m     39\u001b[0m       \u001b[0;31m# Compute the loss function\u001b[0m\u001b[0;34m\u001b[0m\u001b[0;34m\u001b[0m\u001b[0m\n",
            "\u001b[0;31mRuntimeError\u001b[0m: Index tensor must have the same number of dimensions as input tensor"
          ]
        }
      ]
    },
    {
      "cell_type": "markdown",
      "source": [
        "# Test"
      ],
      "metadata": {
        "id": "p5YR1p1f_BpA"
      }
    },
    {
      "cell_type": "code",
      "source": [
        "NTRAJSTEPS = 65\n",
        "dt = 0.1\n",
        "\n",
        "target = torch.zeros((NTRAJSTEPS, 3))\n",
        "targtrajarray = torch.arange(0.0, NTRAJSTEPS * dt, dt)\n",
        "\n",
        "# Circle: compute positions\n",
        "x = 100 * torch.cos(targtrajarray)\n",
        "y = 100 * torch.sin(targtrajarray)\n",
        "\n",
        "# Compute headings from positions\n",
        "prevpos = torch.stack((x[:-2], y[:-2]), dim=1)\n",
        "nextpos = torch.stack((x[2:], y[2:]), dim=1)\n",
        "heading = nextpos - prevpos\n",
        "theta = torch.atan2(heading[:, 1], heading[:, 0])\n",
        "\n",
        "# Add heading for first and last position\n",
        "theta = torch.cat((torch.tensor([torch.atan2(y[1] - y[0], x[1] - x[0])]), theta, torch.tensor([torch.atan2(y[-1] - y[-2], x[-1] - x[-2])])))\n",
        "\n",
        "target = torch.cat((x.unsqueeze(1), y.unsqueeze(1), theta.unsqueeze(1)), dim=1)\n",
        "\n",
        "# Initialize the current state\n",
        "state = initial_state\n",
        "print(state)\n",
        "\n",
        "# Generate predicted trajectory\n",
        "predicted_trajectory = []\n",
        "for t in range(NTRAJSTEPS):\n",
        "    # Choose an action based on the current state\n",
        "    action = dqn(state)\n",
        "    \n",
        "    # Take a step in the environment\n",
        "    next_state, reward, done  = env.step(state, action, target)\n",
        "    \n",
        "    # Add the state to the predicted trajectory\n",
        "    predicted_trajectory.append(state)\n",
        "    \n",
        "    # Update the current state\n",
        "    state = next_state\n",
        "\n",
        "# Convert the predicted trajectory to a tensor\n",
        "predicted_trajectory = torch.stack(predicted_trajectory)\n",
        "\n",
        "# Plot the target and predicted trajectories\n",
        "plt.figure()\n",
        "plt.plot(target[:, 0], target[:, 1], 'r.', label='Target')\n",
        "plt.plot(predicted_trajectory[:, 0], predicted_trajectory[:, 1], 'b.', label='Predicted')\n",
        "plt.axis('square')\n",
        "plt.title('Target and Predicted Trajectories (x,y)')\n",
        "plt.legend()\n",
        "plt.show()\n"
      ],
      "metadata": {
        "colab": {
          "base_uri": "https://localhost:8080/",
          "height": 487
        },
        "id": "-6CNS_B6-_2p",
        "outputId": "ab305c40-5cd3-4abb-f49b-539d3a80db19"
      },
      "execution_count": 439,
      "outputs": [
        {
          "output_type": "stream",
          "name": "stdout",
          "text": [
            "tensor([100.0000,   0.0000,   1.5708])\n"
          ]
        },
        {
          "output_type": "display_data",
          "data": {
            "text/plain": [
              "<Figure size 640x480 with 1 Axes>"
            ],
            "image/png": "[encoded data removed]"
          },
          "metadata": {}
        },
        {
          "output_type": "stream",
          "name": "stdout",
          "text": [
            "torch.Size([65, 3])\n"
          ]
        }
      ]
    },
    {
      "cell_type": "code",
      "source": [],
      "metadata": {
        "id": "3Wim_opS_ukm"
      },
      "execution_count": null,
      "outputs": []
    }
  ]
}