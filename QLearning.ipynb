{
  "nbformat": 4,
  "nbformat_minor": 0,
  "metadata": {
    "colab": {
      "provenance": [],
      "authorship_tag": "ABX9TyO2ovHMKuhgO+re4S8NDj+5",
      "include_colab_link": true
    },
    "kernelspec": {
      "name": "python3",
      "display_name": "Python 3"
    },
    "language_info": {
      "name": "python"
    }
  },
  "cells": [
    {
      "cell_type": "markdown",
      "metadata": {
        "id": "view-in-github",
        "colab_type": "text"
      },
      "source": [
        "<a href=\"https://colab.research.google.com/github/pareshrchaudhary/colab/blob/main/QLearning.ipynb\" target=\"_parent\"><img src=\"https://colab.research.google.com/assets/colab-badge.svg\" alt=\"Open In Colab\"/></a>"
      ]
    },
    {
      "cell_type": "code",
      "source": [
        "import jax\n",
        "import jax.numpy as jnp\n",
        "import numpy as np\n",
        "from jax.typing import ArrayLike\n",
        "from jax import grad, vmap, jit\n",
        "import matplotlib.pyplot as plt\n",
        "import random"
      ],
      "metadata": {
        "id": "2EA2xKgQO_QM"
      },
      "execution_count": 57,
      "outputs": []
    },
    {
      "cell_type": "code",
      "source": [
        "NTRAJSTEPS = 65 # no gap for dt = 0.1\n",
        "dt = 0.1\n",
        "\n",
        "target = jnp.zeros((NTRAJSTEPS, 3))\n",
        "targtrajarray = jnp.arange(0.0, NTRAJSTEPS*dt, dt)\n",
        "\n",
        "# Circle: compute positions\n",
        "x = 100 * jnp.cos(targtrajarray)\n",
        "y = 100 * jnp.sin(targtrajarray)\n",
        "\n",
        "# Compute headings from positions\n",
        "prevpos = jnp.column_stack((x[:-2], y[:-2]))\n",
        "nextpos = jnp.column_stack((x[2:], y[2:]))\n",
        "heading = nextpos - prevpos\n",
        "theta = jnp.arctan2(heading[:, 1], heading[:, 0])\n",
        "\n",
        "# Add heading for first and last position\n",
        "theta = jnp.concatenate((jnp.array([jnp.arctan2(y[1] - y[0], x[1] - x[0])]), theta, jnp.array([jnp.arctan2(y[-1] - y[-2], x[-1] - x[-2])])))\n",
        "\n",
        "target = jnp.column_stack((x, y, theta))\n",
        "print(target.shape)\n",
        "plt.figure()\n",
        "plt.plot(target[:, 0], target[:, 1],'r.')\n",
        "plt.axis('square')\n",
        "plt.title('Target Trajectory (x,y)')"
      ],
      "metadata": {
        "colab": {
          "base_uri": "https://localhost:8080/",
          "height": 487
        },
        "id": "iqNbsEjC34jF",
        "outputId": "ea84a40f-9583-4a1f-9bcf-b134735cd010"
      },
      "execution_count": 56,
      "outputs": [
        {
          "output_type": "stream",
          "name": "stdout",
          "text": [
            "(65, 3)\n"
          ]
        },
        {
          "output_type": "execute_result",
          "data": {
            "text/plain": [
              "Text(0.5, 1.0, 'Target Trajectory (x,y)')"
            ]
          },
          "metadata": {},
          "execution_count": 56
        },
        {
          "output_type": "display_data",
          "data": {
            "text/plain": [
              "<Figure size 640x480 with 1 Axes>"
            ],
            "image/png": "[encoded data removed]"
          },
          "metadata": {}
        }
      ]
    },
    {
      "cell_type": "code",
      "source": [
        "## DO NOT ALTER ##\n",
        "rad2deg = 180.0 / np.pi\n",
        "deg2rad = np.pi / 180.0\n",
        "dt = 0.02"
      ],
      "metadata": {
        "id": "fkYQH43SPGsu"
      },
      "execution_count": 54,
      "outputs": []
    },
    {
      "cell_type": "code",
      "source": [
        "@jit\n",
        "def car_dynamics(state, action, dt):\n",
        "  L = 1\n",
        "  x, y, theta = state\n",
        "  velocity, delta = action\n",
        "\n",
        "  xnew = x + jnp.cos(theta)*velocity*dt\n",
        "  ynew = y + jnp.sin(theta)*velocity*dt\n",
        "  thetanew = theta + (velocity/L) * jnp.tan(delta) * dt\n",
        "  thetanew = jnp.mod(thetanew,2.0*jnp.pi)\n",
        "  return jnp.array([xnew,ynew,thetanew]) # new state\n",
        "\n",
        "@jit\n",
        "def findnearest(target, current):\n",
        "  lookahead = 2\n",
        "  x, y, theta = current\n",
        "\n",
        "  inter_x = (target[:-lookahead-1, 0] - x)**2\n",
        "  inter_y = (target[:-lookahead-1, 1] - y)**2\n",
        "  dist = jnp.sqrt(inter_x + inter_y)\n",
        "  minindex = jnp.argmin(dist)\n",
        "  return minindex  # index of minimum distance\n",
        "\n",
        "@jit\n",
        "def deviation(mi, target, current):\n",
        "  x, y, theta = current\n",
        "  nearest_trajectory = jnp.stack((target[mi, 0] - x, target[mi, 1] - y), axis=0)\n",
        "\n",
        "  car_xvec = jnp.cos((jnp.pi/2.0) + theta)\n",
        "  car_yvec = jnp.sin((jnp.pi/2.0) + theta)\n",
        "  carLeftvec = jnp.stack((car_xvec, car_yvec), axis=0)\n",
        "\n",
        "  error = -jnp.dot(nearest_trajectory, carLeftvec)\n",
        "  return error\n",
        "\n",
        "@jit\n",
        "def reward_function(state, target):\n",
        "    nearest_index = findnearest(target, state)\n",
        "\n",
        "    deviation_error = deviation(nearest_index, target, state)\n",
        "\n",
        "    if deviation_error >= 0:\n",
        "        reward = 1.0  \n",
        "    else:\n",
        "        reward = -1.0  \n",
        "\n",
        "    # Optionally, you can include additional reward components based on other factors\n",
        "    # such as smoothness, collision avoidance, or time efficiency\n",
        "\n",
        "    return reward"
      ],
      "metadata": {
        "id": "ww_-E_TGxWVw"
      },
      "execution_count": 55,
      "outputs": []
    },
    {
      "cell_type": "code",
      "source": [
        "from collections import deque\n",
        "\n",
        "class ReplayBuffer:\n",
        "    def __init__(self, buffer_size):\n",
        "        self.buffer_size = buffer_size\n",
        "        self.buffer = deque(maxlen=buffer_size)\n",
        "\n",
        "    def add_experience(self, state, action, reward, next_state, done):\n",
        "        experience = (state, action, reward, next_state, done)\n",
        "        self.buffer.append(experience)\n",
        "\n",
        "    def sample_batch(self, batch_size):\n",
        "        batch = random.sample(self.buffer, batch_size)\n",
        "\n",
        "        states = []\n",
        "        actions = []\n",
        "        rewards = []\n",
        "        next_states = []\n",
        "        dones = []\n",
        "\n",
        "        for experience in batch:\n",
        "            state, action, reward, next_state, done = experience\n",
        "            states.append(state)\n",
        "            actions.append(action)\n",
        "            rewards.append(reward)\n",
        "            next_states.append(next_state)\n",
        "            dones.append(done)\n",
        "\n",
        "        return states, actions, rewards, next_states, dones\n",
        "\n",
        "    def __len__(self):\n",
        "        return len(self.buffer)\n"
      ],
      "metadata": {
        "id": "Y3qSVH48D-Q2"
      },
      "execution_count": null,
      "outputs": []
    }
  ]
}